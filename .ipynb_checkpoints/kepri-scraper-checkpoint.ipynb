{
 "cells": [
  {
   "cell_type": "code",
   "execution_count": 37,
   "metadata": {},
   "outputs": [],
   "source": [
    "import requests\n",
    "import re\n",
    "import csv\n",
    "from datetime import date\n",
    "from bs4 import BeautifulSoup"
   ]
  },
  {
   "cell_type": "code",
   "execution_count": 2,
   "metadata": {},
   "outputs": [],
   "source": [
    "r = requests.get('https://corona.kepriprov.go.id/data.phtml')\n",
    "soup = BeautifulSoup(r.content, 'html.parser')"
   ]
  },
  {
   "cell_type": "code",
   "execution_count": 57,
   "metadata": {},
   "outputs": [],
   "source": [
    "with open('kepri.csv', 'a+') as csv_file:\n",
    "    fieldnames = ['tanggal', 'wilayah', 'total_positif', 'aktif', 'sembuh', 'meninggal']\n",
    "    writer = csv.DictWriter(csv_file, fieldnames=fieldnames)\n",
    "    list_wilayah = soup.find_all('div', {'class':'box-alkes'})[-10:-3]\n",
    "    # Cukup Sekali saja => writer.writeheader()\n",
    "    for wilayah in list_wilayah:\n",
    "        nama = wilayah.find_all('span')[0].text\n",
    "        nama = nama.strip()\n",
    "        nama = re.sub(r'(Kab.|Kota)\\s', '', nama)\n",
    "        temp = {}\n",
    "        temp['tanggal'] = date.today()\n",
    "        temp['wilayah'] = nama\n",
    "        c = 2\n",
    "        for data in wilayah.find_all('span', {'class':'timer'}):\n",
    "            temp[fieldnames[c]] = data['data-to']\n",
    "            c += 1\n",
    "        writer.writerow(temp)"
   ]
  },
  {
   "cell_type": "code",
   "execution_count": 58,
   "metadata": {
    "scrolled": false
   },
   "outputs": [
    {
     "data": {
      "text/html": [
       "<div>\n",
       "<style scoped>\n",
       "    .dataframe tbody tr th:only-of-type {\n",
       "        vertical-align: middle;\n",
       "    }\n",
       "\n",
       "    .dataframe tbody tr th {\n",
       "        vertical-align: top;\n",
       "    }\n",
       "\n",
       "    .dataframe thead th {\n",
       "        text-align: right;\n",
       "    }\n",
       "</style>\n",
       "<table border=\"1\" class=\"dataframe\">\n",
       "  <thead>\n",
       "    <tr style=\"text-align: right;\">\n",
       "      <th></th>\n",
       "      <th>tanggal</th>\n",
       "      <th>wilayah</th>\n",
       "      <th>total_positif</th>\n",
       "      <th>aktif</th>\n",
       "      <th>sembuh</th>\n",
       "      <th>meninggal</th>\n",
       "    </tr>\n",
       "  </thead>\n",
       "  <tbody>\n",
       "    <tr>\n",
       "      <th>0</th>\n",
       "      <td>2020-08-03</td>\n",
       "      <td>Karimun</td>\n",
       "      <td>7</td>\n",
       "      <td>1</td>\n",
       "      <td>6</td>\n",
       "      <td>0</td>\n",
       "    </tr>\n",
       "    <tr>\n",
       "      <th>1</th>\n",
       "      <td>2020-08-03</td>\n",
       "      <td>Bintan</td>\n",
       "      <td>20</td>\n",
       "      <td>12</td>\n",
       "      <td>7</td>\n",
       "      <td>1</td>\n",
       "    </tr>\n",
       "    <tr>\n",
       "      <th>2</th>\n",
       "      <td>2020-08-03</td>\n",
       "      <td>Natuna</td>\n",
       "      <td>0</td>\n",
       "      <td>0</td>\n",
       "      <td>0</td>\n",
       "      <td>0</td>\n",
       "    </tr>\n",
       "    <tr>\n",
       "      <th>3</th>\n",
       "      <td>2020-08-03</td>\n",
       "      <td>Lingga</td>\n",
       "      <td>1</td>\n",
       "      <td>0</td>\n",
       "      <td>0</td>\n",
       "      <td>1</td>\n",
       "    </tr>\n",
       "    <tr>\n",
       "      <th>4</th>\n",
       "      <td>2020-08-03</td>\n",
       "      <td>Kepulauan Anambas</td>\n",
       "      <td>0</td>\n",
       "      <td>0</td>\n",
       "      <td>0</td>\n",
       "      <td>0</td>\n",
       "    </tr>\n",
       "    <tr>\n",
       "      <th>5</th>\n",
       "      <td>2020-08-03</td>\n",
       "      <td>Batam</td>\n",
       "      <td>330</td>\n",
       "      <td>64</td>\n",
       "      <td>252</td>\n",
       "      <td>14</td>\n",
       "    </tr>\n",
       "    <tr>\n",
       "      <th>6</th>\n",
       "      <td>2020-08-03</td>\n",
       "      <td>Tanjung Pinang</td>\n",
       "      <td>71</td>\n",
       "      <td>42</td>\n",
       "      <td>26</td>\n",
       "      <td>3</td>\n",
       "    </tr>\n",
       "  </tbody>\n",
       "</table>\n",
       "</div>"
      ],
      "text/plain": [
       "      tanggal            wilayah  total_positif  aktif  sembuh  meninggal\n",
       "0  2020-08-03            Karimun              7      1       6          0\n",
       "1  2020-08-03             Bintan             20     12       7          1\n",
       "2  2020-08-03             Natuna              0      0       0          0\n",
       "3  2020-08-03             Lingga              1      0       0          1\n",
       "4  2020-08-03  Kepulauan Anambas              0      0       0          0\n",
       "5  2020-08-03              Batam            330     64     252         14\n",
       "6  2020-08-03     Tanjung Pinang             71     42      26          3"
      ]
     },
     "execution_count": 58,
     "metadata": {},
     "output_type": "execute_result"
    }
   ],
   "source": [
    "import pandas as pd\n",
    "df = pd.read_csv('kepri.csv')\n",
    "df"
   ]
  },
  {
   "cell_type": "code",
   "execution_count": 53,
   "metadata": {},
   "outputs": [
    {
     "data": {
      "text/plain": [
       "429"
      ]
     },
     "execution_count": 53,
     "metadata": {},
     "output_type": "execute_result"
    }
   ],
   "source": [
    "df['total_positif'].sum()"
   ]
  },
  {
   "cell_type": "code",
   "execution_count": 71,
   "metadata": {},
   "outputs": [
    {
     "name": "stdout",
     "output_type": "stream",
     "text": [
      "--------------------------------------------------\n",
      "Rekapitulasi COVID-19 di Kepulauan Riau\n",
      "Per tanggal 2020-08-03 Sumber: corona.keprigov.go.id\n",
      "--------------------------------------------------\n",
      "Karimun 7 1 6 0 \n",
      "Bintan 20 12 7 1 \n",
      "Natuna 0 0 0 0 \n",
      "Lingga 1 0 0 1 \n",
      "Kepulauan Anambas 0 0 0 0 \n",
      "Batam 330 64 252 14 \n",
      "Tanjung Pinang 71 42 26 3 \n",
      "Total: 429\n",
      "--------------------------------------------------\n"
     ]
    }
   ],
   "source": [
    "print(\"-\" * 50)\n",
    "print(\"Rekapitulasi COVID-19 di Kepulauan Riau\")\n",
    "print(\"Per tanggal\", date.today(), \"Sumber: corona.keprigov.go.id\")\n",
    "print(\"-\" * 50)\n",
    "list_wilayah = soup.find_all('div', {'class':'box-alkes'})[11:18]\n",
    "for wilayah in list_wilayah:\n",
    "    nama = wilayah.find_all('span')[0].text\n",
    "    nama = nama.strip()\n",
    "    nama = re.sub(r'(Kab.|Kota)\\s', '', nama)\n",
    "    print(nama, end=\" \")\n",
    "    for data in wilayah.find_all('span', {'class':'timer'}):\n",
    "        print(data['data-to'], end=\" \")\n",
    "    print()\n",
    "print(\"-\" * 50)\n",
    "print(\"Total:\", df['total_positif'].sum())\n",
    "print(\"-\" * 50)"
   ]
  }
 ],
 "metadata": {
  "kernelspec": {
   "display_name": "Python 3",
   "language": "python",
   "name": "python3"
  },
  "language_info": {
   "codemirror_mode": {
    "name": "ipython",
    "version": 3
   },
   "file_extension": ".py",
   "mimetype": "text/x-python",
   "name": "python",
   "nbconvert_exporter": "python",
   "pygments_lexer": "ipython3",
   "version": "3.7.3"
  }
 },
 "nbformat": 4,
 "nbformat_minor": 2
}
